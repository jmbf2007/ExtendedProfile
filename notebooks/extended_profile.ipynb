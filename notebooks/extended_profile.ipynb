{
 "cells": [
  {
   "cell_type": "markdown",
   "id": "0af474f3",
   "metadata": {},
   "source": [
    "# ExtendedProfile — baseline A (estático) / opción B (rolling)"
   ]
  },
  {
   "cell_type": "code",
   "execution_count": 1,
   "id": "d6ff0c63",
   "metadata": {},
   "outputs": [],
   "source": [
    "# Imports\\n# Ensure project root is on sys.path so `import src.*` works when running from notebooks/\n",
    "import sys\n",
    "from pathlib import Path\n",
    "\n",
    "project_root = Path.cwd().parent  # notebooks/ -> project root\n",
    "if str(project_root) not in sys.path:\n",
    "    sys.path.insert(0, str(project_root))\n",
    "\n",
    "import pandas as pd\n",
    "import numpy as np\n",
    "from pathlib import Path\n",
    "import yaml\n",
    "\n",
    "from src.data_io import load_market_data\n",
    "from src.sessions import infer_sessions\n",
    "from src.ep_builder import build_ep\n",
    "from src.scoring import score_levels, filter_levels, crowd_density, crowd_aware_score\n",
    "from src.clustering import cluster_levels\n",
    "from src.metrics import hue, hazard_first_touch, contrast_lift, isolation_from_density, reactivity_index\n",
    "from src.utils import to_ticks, from_ticks, zscore\n"
   ]
  },
  {
   "cell_type": "code",
   "execution_count": 2,
   "id": "6cfc2864",
   "metadata": {},
   "outputs": [
    {
     "data": {
      "text/plain": [
       "{'start_date': '2025-01-01',\n",
       " 'end_date': '2025-02-28',\n",
       " 'instrument': 'ES',\n",
       " 'timeframe': '5m',\n",
       " 'tick_size': 0.25,\n",
       " 'ep_mode': 'static',\n",
       " 'rolling_bars': 1000,\n",
       " 'n_prev_sessions': 4,\n",
       " 'price_range': None,\n",
       " 'filter': {'method': 'percentile', 'value': 95, 'topN': 12},\n",
       " 'cluster': {'merge_ticks': 1},\n",
       " 'horizon': 'next_session',\n",
       " 'metrics': {'X_touch_ticks': 1,\n",
       "  'K_density_ticks': 3,\n",
       "  'M_contrast_ticks': 8,\n",
       "  'refractory_min': 10,\n",
       "  'decay': 0.6},\n",
       " 'weights_init': {'High': 0.25,\n",
       "  'Low': 0.25,\n",
       "  'Close': 0.25,\n",
       "  'MVC': 0.2,\n",
       "  'UpperWick': 0.03,\n",
       "  'LowerWick': 0.02},\n",
       " 'use_volume': True,\n",
       " 'volume_feats': ['VolAtLevel', 'VPGradient', 'MVC_anchor'],\n",
       " 'volume_transform': 'log1p_zscore',\n",
       " 'wv_init': 0.25,\n",
       " 'crowding_beta': 0.5,\n",
       " 'purity_gamma': 0.2,\n",
       " 'optimize': {'n_trials': 50,\n",
       "  'study_direction': 'maximize',\n",
       "  'constraints': {'use_close_only': True,\n",
       "   'max_beacons_per_session': 12,\n",
       "   'min_beacons_per_session': 3}}}"
      ]
     },
     "execution_count": 2,
     "metadata": {},
     "output_type": "execute_result"
    }
   ],
   "source": [
    "# Cargar params\n",
    "params_path = Path(\"../configs/params.yml\")\n",
    "with open(params_path, 'r', encoding='utf-8') as f:\n",
    "    P = yaml.safe_load(f)\n",
    "P\n"
   ]
  },
  {
   "cell_type": "markdown",
   "id": "1cc33ac9",
   "metadata": {},
   "source": [
    "## 1) Carga de datos (ajusta la ruta a tu fichero Parquet/CSV de ES 5m)"
   ]
  },
  {
   "cell_type": "code",
   "execution_count": 3,
   "id": "32735411",
   "metadata": {},
   "outputs": [
    {
     "ename": "FileNotFoundError",
     "evalue": "[Errno 2] No such file or directory: '..\\\\data\\\\ES_5m.parquet'",
     "output_type": "error",
     "traceback": [
      "\u001b[1;31m---------------------------------------------------------------------------\u001b[0m",
      "\u001b[1;31mFileNotFoundError\u001b[0m                         Traceback (most recent call last)",
      "Cell \u001b[1;32mIn[3], line 4\u001b[0m\n\u001b[0;32m      1\u001b[0m \u001b[38;5;66;03m# TODO: ajusta esta ruta a tus datos locales\u001b[39;00m\n\u001b[0;32m      2\u001b[0m data_path \u001b[38;5;241m=\u001b[39m Path(\u001b[38;5;124m\"\u001b[39m\u001b[38;5;124m../data/ES_5m.parquet\u001b[39m\u001b[38;5;124m\"\u001b[39m)  \u001b[38;5;66;03m# o CSV\u001b[39;00m\n\u001b[1;32m----> 4\u001b[0m df \u001b[38;5;241m=\u001b[39m \u001b[43mload_market_data\u001b[49m\u001b[43m(\u001b[49m\u001b[43mdata_path\u001b[49m\u001b[43m,\u001b[49m\u001b[43m \u001b[49m\u001b[43mP\u001b[49m\u001b[43m[\u001b[49m\u001b[38;5;124;43m'\u001b[39;49m\u001b[38;5;124;43mstart_date\u001b[39;49m\u001b[38;5;124;43m'\u001b[39;49m\u001b[43m]\u001b[49m\u001b[43m,\u001b[49m\u001b[43m \u001b[49m\u001b[43mP\u001b[49m\u001b[43m[\u001b[49m\u001b[38;5;124;43m'\u001b[39;49m\u001b[38;5;124;43mend_date\u001b[39;49m\u001b[38;5;124;43m'\u001b[39;49m\u001b[43m]\u001b[49m\u001b[43m)\u001b[49m\n\u001b[0;32m      5\u001b[0m df \u001b[38;5;241m=\u001b[39m infer_sessions(df)\n\u001b[0;32m      6\u001b[0m df\u001b[38;5;241m.\u001b[39mhead()\n",
      "File \u001b[1;32mc:\\Users\\jmbf2\\OneDrive\\Trading\\Pruebas\\ExtendedProfile\\src\\data_io.py:15\u001b[0m, in \u001b[0;36mload_market_data\u001b[1;34m(path_or_df, start_date, end_date)\u001b[0m\n\u001b[0;32m     13\u001b[0m p \u001b[38;5;241m=\u001b[39m Path(path_or_df)\n\u001b[0;32m     14\u001b[0m \u001b[38;5;28;01mif\u001b[39;00m p\u001b[38;5;241m.\u001b[39msuffix\u001b[38;5;241m.\u001b[39mlower() \u001b[38;5;241m==\u001b[39m \u001b[38;5;124m\"\u001b[39m\u001b[38;5;124m.parquet\u001b[39m\u001b[38;5;124m\"\u001b[39m:\n\u001b[1;32m---> 15\u001b[0m     df \u001b[38;5;241m=\u001b[39m \u001b[43mpd\u001b[49m\u001b[38;5;241;43m.\u001b[39;49m\u001b[43mread_parquet\u001b[49m\u001b[43m(\u001b[49m\u001b[43mp\u001b[49m\u001b[43m)\u001b[49m\n\u001b[0;32m     16\u001b[0m \u001b[38;5;28;01melse\u001b[39;00m:\n\u001b[0;32m     17\u001b[0m     df \u001b[38;5;241m=\u001b[39m pd\u001b[38;5;241m.\u001b[39mread_csv(p)\n",
      "File \u001b[1;32mc:\\Users\\jmbf2\\anaconda3\\envs\\ML\\lib\\site-packages\\pandas\\io\\parquet.py:670\u001b[0m, in \u001b[0;36mread_parquet\u001b[1;34m(path, engine, columns, storage_options, use_nullable_dtypes, dtype_backend, filesystem, filters, **kwargs)\u001b[0m\n\u001b[0;32m    667\u001b[0m     use_nullable_dtypes \u001b[38;5;241m=\u001b[39m \u001b[38;5;28;01mFalse\u001b[39;00m\n\u001b[0;32m    668\u001b[0m check_dtype_backend(dtype_backend)\n\u001b[1;32m--> 670\u001b[0m \u001b[38;5;28;01mreturn\u001b[39;00m impl\u001b[38;5;241m.\u001b[39mread(\n\u001b[0;32m    671\u001b[0m     path,\n\u001b[0;32m    672\u001b[0m     columns\u001b[38;5;241m=\u001b[39mcolumns,\n\u001b[0;32m    673\u001b[0m     filters\u001b[38;5;241m=\u001b[39mfilters,\n\u001b[0;32m    674\u001b[0m     storage_options\u001b[38;5;241m=\u001b[39mstorage_options,\n\u001b[0;32m    675\u001b[0m     use_nullable_dtypes\u001b[38;5;241m=\u001b[39muse_nullable_dtypes,\n\u001b[0;32m    676\u001b[0m     dtype_backend\u001b[38;5;241m=\u001b[39mdtype_backend,\n\u001b[0;32m    677\u001b[0m     filesystem\u001b[38;5;241m=\u001b[39mfilesystem,\n\u001b[0;32m    678\u001b[0m     \u001b[38;5;241m*\u001b[39m\u001b[38;5;241m*\u001b[39mkwargs,\n\u001b[0;32m    679\u001b[0m )\n",
      "File \u001b[1;32mc:\\Users\\jmbf2\\anaconda3\\envs\\ML\\lib\\site-packages\\pandas\\io\\parquet.py:265\u001b[0m, in \u001b[0;36mPyArrowImpl.read\u001b[1;34m(self, path, columns, filters, use_nullable_dtypes, dtype_backend, storage_options, filesystem, **kwargs)\u001b[0m\n\u001b[0;32m    262\u001b[0m \u001b[38;5;28;01mif\u001b[39;00m manager \u001b[38;5;241m==\u001b[39m \u001b[38;5;124m\"\u001b[39m\u001b[38;5;124marray\u001b[39m\u001b[38;5;124m\"\u001b[39m:\n\u001b[0;32m    263\u001b[0m     to_pandas_kwargs[\u001b[38;5;124m\"\u001b[39m\u001b[38;5;124msplit_blocks\u001b[39m\u001b[38;5;124m\"\u001b[39m] \u001b[38;5;241m=\u001b[39m \u001b[38;5;28;01mTrue\u001b[39;00m  \u001b[38;5;66;03m# type: ignore[assignment]\u001b[39;00m\n\u001b[1;32m--> 265\u001b[0m path_or_handle, handles, filesystem \u001b[38;5;241m=\u001b[39m \u001b[43m_get_path_or_handle\u001b[49m\u001b[43m(\u001b[49m\n\u001b[0;32m    266\u001b[0m \u001b[43m    \u001b[49m\u001b[43mpath\u001b[49m\u001b[43m,\u001b[49m\n\u001b[0;32m    267\u001b[0m \u001b[43m    \u001b[49m\u001b[43mfilesystem\u001b[49m\u001b[43m,\u001b[49m\n\u001b[0;32m    268\u001b[0m \u001b[43m    \u001b[49m\u001b[43mstorage_options\u001b[49m\u001b[38;5;241;43m=\u001b[39;49m\u001b[43mstorage_options\u001b[49m\u001b[43m,\u001b[49m\n\u001b[0;32m    269\u001b[0m \u001b[43m    \u001b[49m\u001b[43mmode\u001b[49m\u001b[38;5;241;43m=\u001b[39;49m\u001b[38;5;124;43m\"\u001b[39;49m\u001b[38;5;124;43mrb\u001b[39;49m\u001b[38;5;124;43m\"\u001b[39;49m\u001b[43m,\u001b[49m\n\u001b[0;32m    270\u001b[0m \u001b[43m\u001b[49m\u001b[43m)\u001b[49m\n\u001b[0;32m    271\u001b[0m \u001b[38;5;28;01mtry\u001b[39;00m:\n\u001b[0;32m    272\u001b[0m     pa_table \u001b[38;5;241m=\u001b[39m \u001b[38;5;28mself\u001b[39m\u001b[38;5;241m.\u001b[39mapi\u001b[38;5;241m.\u001b[39mparquet\u001b[38;5;241m.\u001b[39mread_table(\n\u001b[0;32m    273\u001b[0m         path_or_handle,\n\u001b[0;32m    274\u001b[0m         columns\u001b[38;5;241m=\u001b[39mcolumns,\n\u001b[1;32m   (...)\u001b[0m\n\u001b[0;32m    277\u001b[0m         \u001b[38;5;241m*\u001b[39m\u001b[38;5;241m*\u001b[39mkwargs,\n\u001b[0;32m    278\u001b[0m     )\n",
      "File \u001b[1;32mc:\\Users\\jmbf2\\anaconda3\\envs\\ML\\lib\\site-packages\\pandas\\io\\parquet.py:139\u001b[0m, in \u001b[0;36m_get_path_or_handle\u001b[1;34m(path, fs, storage_options, mode, is_dir)\u001b[0m\n\u001b[0;32m    129\u001b[0m handles \u001b[38;5;241m=\u001b[39m \u001b[38;5;28;01mNone\u001b[39;00m\n\u001b[0;32m    130\u001b[0m \u001b[38;5;28;01mif\u001b[39;00m (\n\u001b[0;32m    131\u001b[0m     \u001b[38;5;129;01mnot\u001b[39;00m fs\n\u001b[0;32m    132\u001b[0m     \u001b[38;5;129;01mand\u001b[39;00m \u001b[38;5;129;01mnot\u001b[39;00m is_dir\n\u001b[1;32m   (...)\u001b[0m\n\u001b[0;32m    137\u001b[0m     \u001b[38;5;66;03m# fsspec resources can also point to directories\u001b[39;00m\n\u001b[0;32m    138\u001b[0m     \u001b[38;5;66;03m# this branch is used for example when reading from non-fsspec URLs\u001b[39;00m\n\u001b[1;32m--> 139\u001b[0m     handles \u001b[38;5;241m=\u001b[39m \u001b[43mget_handle\u001b[49m\u001b[43m(\u001b[49m\n\u001b[0;32m    140\u001b[0m \u001b[43m        \u001b[49m\u001b[43mpath_or_handle\u001b[49m\u001b[43m,\u001b[49m\u001b[43m \u001b[49m\u001b[43mmode\u001b[49m\u001b[43m,\u001b[49m\u001b[43m \u001b[49m\u001b[43mis_text\u001b[49m\u001b[38;5;241;43m=\u001b[39;49m\u001b[38;5;28;43;01mFalse\u001b[39;49;00m\u001b[43m,\u001b[49m\u001b[43m \u001b[49m\u001b[43mstorage_options\u001b[49m\u001b[38;5;241;43m=\u001b[39;49m\u001b[43mstorage_options\u001b[49m\n\u001b[0;32m    141\u001b[0m \u001b[43m    \u001b[49m\u001b[43m)\u001b[49m\n\u001b[0;32m    142\u001b[0m     fs \u001b[38;5;241m=\u001b[39m \u001b[38;5;28;01mNone\u001b[39;00m\n\u001b[0;32m    143\u001b[0m     path_or_handle \u001b[38;5;241m=\u001b[39m handles\u001b[38;5;241m.\u001b[39mhandle\n",
      "File \u001b[1;32mc:\\Users\\jmbf2\\anaconda3\\envs\\ML\\lib\\site-packages\\pandas\\io\\common.py:872\u001b[0m, in \u001b[0;36mget_handle\u001b[1;34m(path_or_buf, mode, encoding, compression, memory_map, is_text, errors, storage_options)\u001b[0m\n\u001b[0;32m    863\u001b[0m         handle \u001b[38;5;241m=\u001b[39m \u001b[38;5;28mopen\u001b[39m(\n\u001b[0;32m    864\u001b[0m             handle,\n\u001b[0;32m    865\u001b[0m             ioargs\u001b[38;5;241m.\u001b[39mmode,\n\u001b[1;32m   (...)\u001b[0m\n\u001b[0;32m    868\u001b[0m             newline\u001b[38;5;241m=\u001b[39m\u001b[38;5;124m\"\u001b[39m\u001b[38;5;124m\"\u001b[39m,\n\u001b[0;32m    869\u001b[0m         )\n\u001b[0;32m    870\u001b[0m     \u001b[38;5;28;01melse\u001b[39;00m:\n\u001b[0;32m    871\u001b[0m         \u001b[38;5;66;03m# Binary mode\u001b[39;00m\n\u001b[1;32m--> 872\u001b[0m         handle \u001b[38;5;241m=\u001b[39m \u001b[38;5;28;43mopen\u001b[39;49m\u001b[43m(\u001b[49m\u001b[43mhandle\u001b[49m\u001b[43m,\u001b[49m\u001b[43m \u001b[49m\u001b[43mioargs\u001b[49m\u001b[38;5;241;43m.\u001b[39;49m\u001b[43mmode\u001b[49m\u001b[43m)\u001b[49m\n\u001b[0;32m    873\u001b[0m     handles\u001b[38;5;241m.\u001b[39mappend(handle)\n\u001b[0;32m    875\u001b[0m \u001b[38;5;66;03m# Convert BytesIO or file objects passed with an encoding\u001b[39;00m\n",
      "\u001b[1;31mFileNotFoundError\u001b[0m: [Errno 2] No such file or directory: '..\\\\data\\\\ES_5m.parquet'"
     ]
    }
   ],
   "source": [
    "# TODO: ajusta esta ruta a tus datos locales\n",
    "data_path = Path(\"../data/ES_5m.parquet\")  # o CSV\n",
    "\n",
    "df = load_market_data(data_path, P['start_date'], P['end_date'])\n",
    "df = infer_sessions(df)\n",
    "df.head()\n"
   ]
  },
  {
   "cell_type": "markdown",
   "id": "90747c74",
   "metadata": {},
   "source": [
    "## 2) Selección de sesión objetivo y EP de 4 previas"
   ]
  },
  {
   "cell_type": "code",
   "execution_count": null,
   "id": "c1552111",
   "metadata": {},
   "outputs": [],
   "source": [
    "# Tomamos la última sesión disponible del rango y construimos EP con 4 previas\n",
    "tick = float(P['tick_size'])\n",
    "target_session = int(df['SessionId'].max())\n",
    "ep = build_ep(df, session_id=target_session, n_prev_sessions=int(P['n_prev_sessions']), tick_size=tick)\n",
    "ep.head()\n"
   ]
  },
  {
   "cell_type": "markdown",
   "id": "3760cb42",
   "metadata": {},
   "source": [
    "## 3) Score, densidad (crowd-aware) y balizas"
   ]
  },
  {
   "cell_type": "code",
   "execution_count": null,
   "id": "9d6b8c78",
   "metadata": {},
   "outputs": [],
   "source": [
    "# Pesos iniciales\n",
    "w = P['weights_init']\n",
    "\n",
    "scored = score_levels(ep, w)\n",
    "dens = crowd_density(scored, K=int(P['metrics']['K_density_ticks']))\n",
    "# CP: por ahora placeholder 0.0 (lo implementaremos cuando contemos familias activas por nivel)\n",
    "cp = 0.0\n",
    "scored_star = crowd_aware_score(scored, dens, cp, beta=float(P['crowding_beta']), gamma=float(P['purity_gamma']))\n",
    "\n",
    "# Filtrado (percentil/topN)\n",
    "flt_method = P['filter']['method']\n",
    "flt_value = P['filter']['value'] if flt_method == 'percentile' else P['filter']['topN']\n",
    "levels = filter_levels(scored_star, method=flt_method, value=flt_value)\n",
    "\n",
    "# Clustering\n",
    "clusters = cluster_levels(levels, merge_ticks=int(P['cluster']['merge_ticks']))\n",
    "levels.head(), clusters.head()\n"
   ]
  },
  {
   "cell_type": "markdown",
   "id": "506daeff",
   "metadata": {},
   "source": [
    "## 4) Métricas de reactividad en la sesión objetivo"
   ]
  },
  {
   "cell_type": "code",
   "execution_count": null,
   "id": "32d958dc",
   "metadata": {},
   "outputs": [],
   "source": [
    "# Placeholder: aquí deberíamos calcular hits/exposición por nivel durante la sesión target.\n",
    "# De momento, creamos estructuras vacías para que el notebook sea ejecutable.\n",
    "hue_series = pd.Series(dtype='float64', name='HUE')\n",
    "ri_rows = []\n",
    "for p in levels.index:\n",
    "    HUEp = float(hue_series.get(p, 0.0))\n",
    "    lam1 = 0.0\n",
    "    CP = 0.0\n",
    "    CL = 0.0\n",
    "    I  = float(np.exp(-dens.get(p, 0.0))) if p in dens.index else 1.0\n",
    "    RI = reactivity_index(HUEp, lam1, CP, CL, I)\n",
    "    ri_rows.append({'level_ticks': int(p), 'HUE': HUEp, 'lambda1': lam1, 'CP': CP, 'CL': CL, 'I': I, 'RI': RI})\n",
    "ri_df = pd.DataFrame(ri_rows).set_index('level_ticks')\n",
    "ri_df.head()\n"
   ]
  },
  {
   "cell_type": "markdown",
   "id": "568d5be0",
   "metadata": {},
   "source": [
    "## 5) TODOs inmediatos"
   ]
  },
  {
   "cell_type": "markdown",
   "id": "a115ab97",
   "metadata": {},
   "source": [
    "- Implementar cálculo de **hits** y **exposición** por nivel (±X ticks) durante la **sesión objetivo**.\n",
    "- Implementar **Contrast Lift** con vecindad ±M, y **CP** (pureza de confluencia).\n",
    "- Añadir soporte **rolling** (EP dinámico) con ventana `rolling_bars` y anti-lookahead.\n",
    "- Visualizaciones: heatmap EP, top-N por Score*, y distribución de RI.\n",
    "- Bench A/B: estático vs rolling; con y sin volumen.\n"
   ]
  }
 ],
 "metadata": {
  "kernelspec": {
   "display_name": "ML",
   "language": "python",
   "name": "python3"
  },
  "language_info": {
   "codemirror_mode": {
    "name": "ipython",
    "version": 3
   },
   "file_extension": ".py",
   "mimetype": "text/x-python",
   "name": "python",
   "nbconvert_exporter": "python",
   "pygments_lexer": "ipython3",
   "version": "3.10.10"
  }
 },
 "nbformat": 4,
 "nbformat_minor": 5
}
